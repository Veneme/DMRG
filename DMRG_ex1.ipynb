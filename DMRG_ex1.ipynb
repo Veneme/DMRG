{
 "cells": [
  {
   "cell_type": "markdown",
   "id": "a54bf9f5",
   "metadata": {},
   "source": [
    "\n",
    "# Steven R. WHITE-DMRG <a href=\"https://www.youtube.com/watch?v=sDcnFgfx4mw\">lecture</a> solutions\n",
    "Han-Ze Li XTU\n",
    "## Ex. 1 diagonalize N=2 H matrix"
   ]
  },
  {
   "cell_type": "code",
   "execution_count": 11,
   "id": "ed2b9cac",
   "metadata": {},
   "outputs": [
    {
     "data": {
      "text/plain": [
       "4×4 Matrix{Float64}:\n",
       " 0.25   0.0    0.0   0.0\n",
       " 0.0   -0.25   0.5   0.0\n",
       " 0.0    0.5   -0.25  0.0\n",
       " 0.0    0.0    0.0   0.25"
      ]
     },
     "execution_count": 11,
     "metadata": {},
     "output_type": "execute_result"
    }
   ],
   "source": [
    "H = [1/4  0.0   0.0   0.0; \n",
    "     0.0 -1/4   1/2   0.0;\n",
    "     0.0  1/2  -1/4   0.0;\n",
    "     0.0  0.0   0.0   1/4]"
   ]
  },
  {
   "cell_type": "code",
   "execution_count": 12,
   "id": "202e72b9",
   "metadata": {},
   "outputs": [
    {
     "data": {
      "text/plain": [
       "Eigen{Float64, Float64, Matrix{Float64}, Vector{Float64}}\n",
       "values:\n",
       "4-element Vector{Float64}:\n",
       " -0.7499999999999994\n",
       "  0.25\n",
       "  0.25\n",
       "  0.25\n",
       "vectors:\n",
       "4×4 Matrix{Float64}:\n",
       "  0.0       1.0  0.0       0.0\n",
       "  0.707107  0.0  0.707107  0.0\n",
       " -0.707107  0.0  0.707107  0.0\n",
       "  0.0       0.0  0.0       1.0"
      ]
     },
     "execution_count": 12,
     "metadata": {},
     "output_type": "execute_result"
    }
   ],
   "source": [
    "using LinearAlgebra\n",
    "eigen(H)"
   ]
  },
  {
   "cell_type": "markdown",
   "id": "6370eb8d",
   "metadata": {},
   "source": [
    "## Ex 2. N=4 $H^{S_{total}=0}_{block}$ block martrix diagonalization"
   ]
  },
  {
   "cell_type": "code",
   "execution_count": 13,
   "id": "8a056abc",
   "metadata": {},
   "outputs": [
    {
     "data": {
      "text/plain": [
       "Eigen{Float64, Float64, Matrix{Float64}, Vector{Float64}}\n",
       "values:\n",
       "6-element Vector{Float64}:\n",
       " -0.8090169943749461\n",
       " -0.30901699437494723\n",
       "  0.0\n",
       "  0.0\n",
       "  0.3090169943749481\n",
       "  0.8090169943749475\n",
       "vectors:\n",
       "6×6 Matrix{Float64}:\n",
       "  0.0        0.0       1.0  0.0   0.0        0.0\n",
       " -0.601501   0.371748  0.0  0.0   0.371748  -0.601501\n",
       " -0.371748  -0.601501  0.0  0.0  -0.601501  -0.371748\n",
       "  0.371748  -0.601501  0.0  0.0   0.601501  -0.371748\n",
       "  0.601501   0.371748  0.0  0.0  -0.371748  -0.601501\n",
       "  0.0        0.0       0.0  1.0   0.0        0.0"
      ]
     },
     "execution_count": 13,
     "metadata": {},
     "output_type": "execute_result"
    }
   ],
   "source": [
    "using LinearAlgebra\n",
    "\n",
    "H = [0.0  0.0   0.0   0.0   0.0   0.0; \n",
    "     0.0  0.0   0.0   1/2   1/2   0.0;\n",
    "     0.0  0.0   0.0   0.0   1/2   0.0;\n",
    "     0.0  1/2   0.0   0.0   0.0   0.0;\n",
    "     0.0  1/2   1/2   0.0   0.0   0.0;\n",
    "     0.0  0.0   0.0   0.0   0.0   0.0]\n",
    "\n",
    "eigen(H)"
   ]
  },
  {
   "cell_type": "markdown",
   "id": "301d44a0",
   "metadata": {},
   "source": [
    "## Ex 3 & 4. N-spins Heisenberg chain\n",
    "\n",
    "$$\\hat{H}=\\sum_{j=1}^{L-1}{\\bf S}_j \\cdot {\\bf S}_{j+1}=\\sum_{j=1}^{L-1}S_{j}^{z}S_{j+1}^{z}+ \\frac{1}{2}(S_{j}^{+}S_{j+1}^{-}+ S_{j}^{-}S_{j+1}^{+})$$"
   ]
  },
  {
   "cell_type": "code",
   "execution_count": 48,
   "id": "7efdd873",
   "metadata": {},
   "outputs": [
    {
     "name": "stdout",
     "output_type": "stream",
     "text": [
      "  0.003422 seconds (177 allocations: 259.906 KiB)\n",
      "Ground state energy:-6.7500000000000036\n"
     ]
    }
   ],
   "source": [
    "using LinearAlgebra, SparseArrays, Arpack\n",
    "\n",
    "# Pauli matrices\n",
    "Sz = sparse([1/2 0.0; 0.0 -1/2])  # Sz matrix\n",
    "Sp = sparse([0.0 1.0; 0.0 0.0])   # S+ matrix\n",
    "Sm = sparse([0.0 0.0; 1.0 0.0])   # S- matrix\n",
    "\n",
    "# system size\n",
    "L = 10\n",
    "\n",
    "# Define S_zz, S_pm, S_mp functions using anonymous functions\n",
    "S_zz = index -> kron(kron(Sz, Sz), sparse(I, 2^(L-2), 2^(L-2)))\n",
    "S_pm = index -> kron(kron(Sp, Sm), sparse(I, 2^(L-2), 2^(L-2)))\n",
    "S_mp = index -> kron(kron(Sm, Sp), sparse(I, 2^(L-2), 2^(L-2)))\n",
    "\n",
    "# Calculate the Hamiltonian\n",
    "Hamiltonian = sum(S_zz(i) + 0.5 * (S_pm(i) + S_mp(i)) for i in 1:(L-1))\n",
    "\n",
    "# Compute eigensystem\n",
    "@time E, vec = eigs(Hamiltonian, nev=6, which=:SR)\n",
    "\n",
    "# Print ground state energy\n",
    "println(\"Ground state energy:\", minimum(E))\n"
   ]
  },
  {
   "cell_type": "markdown",
   "id": "61183cb5",
   "metadata": {},
   "source": [
    "## Ex. 6 Entanglement entropy of spin chains"
   ]
  },
  {
   "cell_type": "code",
   "execution_count": 142,
   "id": "3bb96f7e",
   "metadata": {},
   "outputs": [
    {
     "name": "stdout",
     "output_type": "stream",
     "text": [
      "Se:0.6931471805599454\n",
      "Se-max:0.6931471805599453\n"
     ]
    }
   ],
   "source": [
    "using LinearAlgebra, SparseArrays, Arpack\n",
    "\n",
    "# Pauli matrices\n",
    "Sz = sparse([1/2 0.0; 0.0 -1/2])  # Sz matrix\n",
    "Sp = sparse([0.0 1.0; 0.0 0.0])   # S+ matrix\n",
    "Sm = sparse([0.0 0.0; 1.0 0.0])   # S- matrix\n",
    "\n",
    "# system size\n",
    "L = 2\n",
    "\n",
    "# Define S_zz, S_pm, S_mp functions using anonymous functions\n",
    "S_zz = index -> kron(kron(Sz, Sz), sparse(I, 2^(L-2), 2^(L-2)))\n",
    "S_pm = index -> kron(kron(Sp, Sm), sparse(I, 2^(L-2), 2^(L-2)))\n",
    "S_mp = index -> kron(kron(Sm, Sp), sparse(I, 2^(L-2), 2^(L-2)))\n",
    "\n",
    "# Calculate the Hamiltonian\n",
    "Hamiltonian = sum(S_zz(i) + 0.5 * (S_pm(i) + S_mp(i)) for i in 1:(L-1))\n",
    "\n",
    "# Compute eigensystem\n",
    "E, vec = eigs(Hamiltonian, nev=L, which=:SR)\n",
    "\n",
    "# Obtain ground state vector\n",
    "ground_state = vec[:, 1]\n",
    "\n",
    "# Reshape ground state vector into left and right subsystems\n",
    "left_dim = 2^(L ÷ 2)\n",
    "right_dim = 2^(L ÷ 2)\n",
    "ground_state_left = reshape(ground_state, left_dim, right_dim)\n",
    "\n",
    "# Perform SVD on the left subsystem\n",
    "U, Σ, V = svd(ground_state_left)\n",
    "\n",
    "# Compute the entanglement entropy\n",
    "entanglement_entropy = -sum(σ^2 * log(σ^2) for σ in Σ)\n",
    "\n",
    "# Smax\n",
    "Smax = (L/2)*log.(2)\n",
    "\n",
    "println(\"Se:\", entanglement_entropy)\n",
    "println(\"Se-max:\", Smax)"
   ]
  }
 ],
 "metadata": {
  "kernelspec": {
   "display_name": "Julia 1.8.2",
   "language": "julia",
   "name": "julia-1.8"
  },
  "language_info": {
   "file_extension": ".jl",
   "mimetype": "application/julia",
   "name": "julia",
   "version": "1.8.2"
  }
 },
 "nbformat": 4,
 "nbformat_minor": 5
}
